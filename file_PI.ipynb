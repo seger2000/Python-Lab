{
 "cells": [
  {
   "cell_type": "code",
   "execution_count": null,
   "id": "extraordinary-piano",
   "metadata": {},
   "outputs": [],
   "source": [
    "#Problema 1"
   ]
  },
  {
   "cell_type": "code",
   "execution_count": 141,
   "id": "foster-fabric",
   "metadata": {},
   "outputs": [
    {
     "name": "stdout",
     "output_type": "stream",
     "text": [
      "Overwriting data.txt\n"
     ]
    }
   ],
   "source": [
    "%%writefile data.txt\n",
    "one two three four five"
   ]
  },
  {
   "cell_type": "code",
   "execution_count": 142,
   "id": "seven-nowhere",
   "metadata": {},
   "outputs": [],
   "source": [
    "with open('data.txt', mode = 'r') as myfile:\n",
    "    cont = myfile.read()"
   ]
  },
  {
   "cell_type": "code",
   "execution_count": 143,
   "id": "ultimate-principal",
   "metadata": {},
   "outputs": [],
   "source": [
    "def Convert(string):\n",
    "    li = list(string.split())\n",
    "    return li"
   ]
  },
  {
   "cell_type": "code",
   "execution_count": 144,
   "id": "artistic-duplicate",
   "metadata": {},
   "outputs": [],
   "source": [
    "items = {'one':'unu','two':'doi','three':'trei','four':'patru','five':'cinci'}"
   ]
  },
  {
   "cell_type": "code",
   "execution_count": 145,
   "id": "dramatic-tunisia",
   "metadata": {},
   "outputs": [
    {
     "name": "stdout",
     "output_type": "stream",
     "text": [
      "unu doi trei patru cinci\n"
     ]
    }
   ],
   "source": [
    "li = Convert(cont)\n",
    "\n",
    "new_li = []\n",
    "for i in li:\n",
    "    if i in items.keys():\n",
    "        new_li.append(items[i])\n",
    "new_li=\" \".join(new_li)\n",
    "print(new_li)\n",
    "myfile.close()"
   ]
  },
  {
   "cell_type": "code",
   "execution_count": 146,
   "id": "consecutive-allen",
   "metadata": {},
   "outputs": [
    {
     "name": "stdout",
     "output_type": "stream",
     "text": [
      "unu doi trei patru cinci\n"
     ]
    }
   ],
   "source": [
    "with open('dataRo.txt', mode = 'r+') as f:\n",
    "    f.write(str(new_li))\n",
    "    f.seek(0)\n",
    "    fread = f.read()\n",
    "f.close\n",
    "print(fread)"
   ]
  },
  {
   "cell_type": "code",
   "execution_count": 147,
   "id": "stylish-marker",
   "metadata": {},
   "outputs": [],
   "source": [
    "#Problema 2"
   ]
  },
  {
   "cell_type": "code",
   "execution_count": 148,
   "id": "prostate-kruger",
   "metadata": {},
   "outputs": [
    {
     "name": "stdout",
     "output_type": "stream",
     "text": [
      "Overwriting data2.txt\n"
     ]
    }
   ],
   "source": [
    "%%writefile data2.txt\n",
    "1 2 3 4 5 6 7 8 9 0"
   ]
  },
  {
   "cell_type": "code",
   "execution_count": 149,
   "id": "coral-dublin",
   "metadata": {},
   "outputs": [],
   "source": [
    "with open('data2.txt', mode = 'r+') as myfile:\n",
    "    cont = myfile.read()"
   ]
  },
  {
   "cell_type": "code",
   "execution_count": 151,
   "id": "timely-enlargement",
   "metadata": {},
   "outputs": [
    {
     "name": "stdout",
     "output_type": "stream",
     "text": [
      "Sume elementelor este : 45\n"
     ]
    }
   ],
   "source": [
    "sum = 0\n",
    "li = list(cont.split())\n",
    "for i in li:\n",
    "    sum = sum + int(i)\n",
    "print(f\"Sume elementelor este : {sum}\")\n",
    "myfile.close()"
   ]
  },
  {
   "cell_type": "code",
   "execution_count": null,
   "id": "major-pressing",
   "metadata": {},
   "outputs": [],
   "source": []
  }
 ],
 "metadata": {
  "kernelspec": {
   "display_name": "Python 3",
   "language": "python",
   "name": "python3"
  },
  "language_info": {
   "codemirror_mode": {
    "name": "ipython",
    "version": 3
   },
   "file_extension": ".py",
   "mimetype": "text/x-python",
   "name": "python",
   "nbconvert_exporter": "python",
   "pygments_lexer": "ipython3",
   "version": "3.8.2"
  }
 },
 "nbformat": 4,
 "nbformat_minor": 5
}
