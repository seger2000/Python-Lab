{
 "cells": [
  {
   "cell_type": "code",
   "execution_count": 35,
   "id": "external-county",
   "metadata": {},
   "outputs": [
    {
     "name": "stdin",
     "output_type": "stream",
     "text": [
      "Introdu numaruol N=  3\n"
     ]
    },
    {
     "name": "stdout",
     "output_type": "stream",
     "text": [
      "Sume numerelor este 1\n"
     ]
    }
   ],
   "source": [
    "#prob 1\n",
    "n=int(input(\"Introdu numaruol N= \"))\n",
    "suma=0\n",
    "for i in range (n):\n",
    "    if i%2==1:\n",
    "        suma = suma+i\n",
    "print(\"Sume numerelor impare este {}\".format(suma))\n"
   ]
  },
  {
   "cell_type": "code",
   "execution_count": 1,
   "id": "attached-concord",
   "metadata": {},
   "outputs": [],
   "source": [
    "#prob 2\"\n",
    "def numPrim():\n",
    "    li_num=[]\n",
    "    for num in range(100,999+1):\n",
    "        if num > 1:\n",
    "            for i in range(2,num):\n",
    "                if (num % i)==0:\n",
    "                    break\n",
    "            else:\n",
    "                 li_num.append(num) \n",
    "    return li_num\n",
    "\n"
   ]
  },
  {
   "cell_type": "code",
   "execution_count": 2,
   "id": "filled-bunny",
   "metadata": {},
   "outputs": [],
   "source": [
    "def proPrim(n):\n",
    "    pro = 1\n",
    "    for i in str(n): \n",
    "        pro *= int(i)      \n",
    "    return pro"
   ]
  },
  {
   "cell_type": "code",
   "execution_count": 14,
   "id": "opponent-privacy",
   "metadata": {},
   "outputs": [
    {
     "name": "stdin",
     "output_type": "stream",
     "text": [
      "Introduceti numarul P =  2\n"
     ]
    },
    {
     "name": "stdout",
     "output_type": "stream",
     "text": [
      "Rezultatul este: \n",
      "211 "
     ]
    }
   ],
   "source": [
    "num=int(input(\"Introduceti numarul P = \"))\n",
    "print(\"Rezultatul este: \")\n",
    "for i in numPrim():\n",
    "    if proPrim(i)==num:\n",
    "        print(i, end=\" \")"
   ]
  },
  {
   "cell_type": "code",
   "execution_count": 29,
   "id": "present-fleet",
   "metadata": {},
   "outputs": [],
   "source": [
    "#prob3\n",
    "def sumDiv(x):\n",
    "    sum=0\n",
    "    for i in range (1,x+1):\n",
    "        if x%i==0:\n",
    "            sum+=i\n",
    "    return sum"
   ]
  },
  {
   "cell_type": "code",
   "execution_count": 46,
   "id": "future-prior",
   "metadata": {},
   "outputs": [
    {
     "name": "stdin",
     "output_type": "stream",
     "text": [
      "X =  10\n",
      "Y =  25\n"
     ]
    },
    {
     "name": "stdout",
     "output_type": "stream",
     "text": [
      "10 17\n",
      "14 15\n",
      "14 23\n",
      "15 23\n",
      "16 25\n"
     ]
    }
   ],
   "source": [
    "x=int(input(\"X = \"))\n",
    "y=int(input(\"Y = \"))\n",
    "for a in range(x,y):\n",
    "    for b in range(a,y+1):\n",
    "        if sumDiv(a) == sumDiv(b) and a!=b:\n",
    "            print(a,b)"
   ]
  },
  {
   "cell_type": "code",
   "execution_count": 1,
   "id": "expressed-poison",
   "metadata": {},
   "outputs": [],
   "source": [
    "#prob 4\n",
    "def divCom(a,b):\n",
    "    while b > 0:\n",
    "        a, b = b, a % b\n",
    "    return a"
   ]
  },
  {
   "cell_type": "code",
   "execution_count": 2,
   "id": "infectious-florida",
   "metadata": {},
   "outputs": [],
   "source": [
    "def divmed(num):\n",
    "    largest_divisor = 0\n",
    "    for i in range(2, num):\n",
    "        if num % i == 0:\n",
    "            largest_divisor = i\n",
    "    return largest_divisor//2\n"
   ]
  },
  {
   "cell_type": "code",
   "execution_count": 3,
   "id": "contrary-gentleman",
   "metadata": {},
   "outputs": [
    {
     "name": "stdin",
     "output_type": "stream",
     "text": [
      "N =  22\n"
     ]
    },
    {
     "name": "stdout",
     "output_type": "stream",
     "text": [
      "5 5\n",
      "5 10\n",
      "5 15\n",
      "5 20\n",
      "10 15\n",
      "15 20\n"
     ]
    }
   ],
   "source": [
    "num=int(input(\"N = \"))\n",
    "res=divmed(num)\n",
    "for a in range(res,num):\n",
    "    for b in range(a,num+1):\n",
    "        if res==divCom(a,b):\n",
    "            print(a,b)"
   ]
  },
  {
   "cell_type": "code",
   "execution_count": 38,
   "id": "casual-duration",
   "metadata": {},
   "outputs": [],
   "source": [
    "#prob5\n",
    "def sumElm(n):\n",
    "    sum = 0\n",
    "    for i in str(n): \n",
    "        sum += int(i) \n",
    "        #print(int(i))\n",
    "    return sum"
   ]
  },
  {
   "cell_type": "code",
   "execution_count": 104,
   "id": "frequent-modern",
   "metadata": {},
   "outputs": [
    {
     "name": "stdin",
     "output_type": "stream",
     "text": [
      "N =  20\n"
     ]
    },
    {
     "name": "stdout",
     "output_type": "stream",
     "text": [
      "299 389 389 479 488 479 569 578 578 569 569 668 677 668 569 479 578 677 677 578 479 389 488 578 668 578 488 389 299 389 479 569 569 479 389 299 "
     ]
    }
   ],
   "source": [
    "n=int(input(\"N = \"))\n",
    "li_num=list(range(100,1000))\n",
    "li_n=[]\n",
    "for i in li_num:\n",
    "    if sumElm(i)==n:\n",
    "        n_sort=str(i)\n",
    "        n_sort=''.join(sorted(n_sort))\n",
    "        print(int(n_sort),end=\" \")\n",
    "    "
   ]
  },
  {
   "cell_type": "code",
   "execution_count": 14,
   "id": "twelve-plain",
   "metadata": {},
   "outputs": [],
   "source": [
    "#prob6\n",
    "def mfreg(List):\n",
    "    counter = 0\n",
    "    num = List[0]\n",
    "     \n",
    "    for i in List:\n",
    "        curr_freg = List.count(i)\n",
    "        if(curr_freg> counter):\n",
    "            counter = curr_freg\n",
    "            num = i\n",
    " \n",
    "    return num"
   ]
  },
  {
   "cell_type": "code",
   "execution_count": 19,
   "id": "forty-institute",
   "metadata": {},
   "outputs": [
    {
     "name": "stdin",
     "output_type": "stream",
     "text": [
      "X =  1620\n"
     ]
    },
    {
     "name": "stdout",
     "output_type": "stream",
     "text": [
      "Factorialul cerut este 3\n"
     ]
    }
   ],
   "source": [
    "import math\n",
    "n=int(input(\"X = \"))\n",
    "li=[]\n",
    "while n != 1:\n",
    "    for i in range(2,int(n + 1)):\n",
    "        if (n % i) == 0 and i != 1:\n",
    "            n = n / i\n",
    "            if n == 1:\n",
    "                li.append(i)\n",
    "            else:\n",
    "                li.append(i)\n",
    "                break\n",
    "print (\"Factorialul cerut este = {}\".format(mfreg(li)))"
   ]
  },
  {
   "cell_type": "code",
   "execution_count": 29,
   "id": "collaborative-holmes",
   "metadata": {},
   "outputs": [],
   "source": [
    "#Prob7\n",
    "def powInv(n):\n",
    "    num=str(n)\n",
    "    num = num[::-1]\n",
    "    num = \"\".join(num)\n",
    "    num=int(num)\n",
    "    invpow=str(num**2)\n",
    "    invpow = invpow[::-1]\n",
    "    invpow = \"\".join(invpow)\n",
    "    invpow=int(invpow)\n",
    "   # return num\n",
    "    if n**2 == invpow:\n",
    "        print(f\"{n} = {n**2} unde {num} = {num**2}\")\n",
    "    else:\n",
    "        print(\"Numarul {} nu are proprietatea de a fi rasturnat \".format(n))"
   ]
  },
  {
   "cell_type": "code",
   "execution_count": 34,
   "id": "monthly-institution",
   "metadata": {},
   "outputs": [
    {
     "name": "stdout",
     "output_type": "stream",
     "text": [
      "21 = 441 unde 12 = 144\n"
     ]
    }
   ],
   "source": [
    "powInv(21)"
   ]
  },
  {
   "cell_type": "code",
   "execution_count": 16,
   "id": "dutch-glossary",
   "metadata": {},
   "outputs": [
    {
     "name": "stdin",
     "output_type": "stream",
     "text": [
      "N =  20\n"
     ]
    },
    {
     "name": "stdout",
     "output_type": "stream",
     "text": [
      "Numarul cel mai mici cu maxim divizori este = 12 are 4 divizori\n"
     ]
    }
   ],
   "source": [
    "#Prob8\n",
    "#prob6\n",
    "def mfreg(List):\n",
    "    counter = 0\n",
    "    num = List[0]\n",
    "     \n",
    "    for i in List:\n",
    "        curr_freg = List.count(i)\n",
    "        if(curr_freg> counter):\n",
    "            counter = curr_freg\n",
    "            num = i\n",
    " \n",
    "    return num\n",
    "\n",
    "n=int(input(\"N = \"))\n",
    "count1=[]\n",
    "count=0\n",
    "for i in range(1,n):\n",
    "    max_count=0\n",
    "    for a in range(1,n):\n",
    "        if i%a==0:\n",
    "            max_count+=1\n",
    "    if count<=max_count:\n",
    "        count=max_count\n",
    "        count1.append(max_count)\n",
    "for i in range(1,n):\n",
    "    count_div=0\n",
    "    for a in range(2,n):\n",
    "        if i%a==0:\n",
    "            count_div+=1\n",
    "    if mfreg(count1)+1==count_div:\n",
    "        print(f\"Numarul cel mai mici cu maxim divizori este = {i} are {mfreg(count1)} divizori\")\n",
    "        break\n",
    "    \n",
    "#print(count)"
   ]
  },
  {
   "cell_type": "code",
   "execution_count": null,
   "id": "compact-coaching",
   "metadata": {},
   "outputs": [],
   "source": []
  }
 ],
 "metadata": {
  "kernelspec": {
   "display_name": "Python 3",
   "language": "python",
   "name": "python3"
  },
  "language_info": {
   "codemirror_mode": {
    "name": "ipython",
    "version": 3
   },
   "file_extension": ".py",
   "mimetype": "text/x-python",
   "name": "python",
   "nbconvert_exporter": "python",
   "pygments_lexer": "ipython3",
   "version": "3.8.2"
  },
  "toc-autonumbering": true
 },
 "nbformat": 4,
 "nbformat_minor": 5
}
