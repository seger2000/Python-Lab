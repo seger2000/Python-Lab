{
 "cells": [
  {
   "cell_type": "code",
   "execution_count": 13,
   "id": "1319155a-c69a-4e52-b227-0a8329b82b31",
   "metadata": {},
   "outputs": [],
   "source": [
    "class Account:\n",
    "    def __init__(self,nume,balance=0):\n",
    "        self.nume = nume\n",
    "        self.balance = balance\n",
    "        \n",
    "    def __str__(self):\n",
    "        return f'Account-> Nume:   {self.nume}\\nAccount balance: ${self.balance}'\n",
    "        \n",
    "    def deposit(self,suma):\n",
    "        self.balance += suma\n",
    "        print('Suma a fost depozitata')\n",
    "        \n",
    "    def withdraw(self,wd_amt):\n",
    "        if self.balance >= wd_amt:\n",
    "            self.balance -= wd_amt\n",
    "            print('Extragerea a avut loc cu succes')\n",
    "        else:\n",
    "            print('Nu exista resurse suficiente !')"
   ]
  },
  {
   "cell_type": "code",
   "execution_count": 14,
   "id": "56722a83-6af0-45ad-a6f5-c9aabd52d618",
   "metadata": {},
   "outputs": [],
   "source": [
    "acount_1 =  Account('Dascal',100)"
   ]
  },
  {
   "cell_type": "code",
   "execution_count": 17,
   "id": "e6485e41-ee60-4fd5-8c2b-ee59a72f194d",
   "metadata": {},
   "outputs": [
    {
     "name": "stdout",
     "output_type": "stream",
     "text": [
      "Account-> Nume:   Dascal\n",
      "Account balance: $600\n"
     ]
    }
   ],
   "source": [
    "print(acount_1)"
   ]
  },
  {
   "cell_type": "code",
   "execution_count": 16,
   "id": "a11f27df-0c33-4040-aa37-b668bf2e4886",
   "metadata": {},
   "outputs": [
    {
     "name": "stdout",
     "output_type": "stream",
     "text": [
      "Suma a fost depozitata\n"
     ]
    }
   ],
   "source": [
    "acount_1.deposit(500)"
   ]
  },
  {
   "cell_type": "code",
   "execution_count": 18,
   "id": "a3697dca-47a8-4148-9acc-75b2b6f98553",
   "metadata": {},
   "outputs": [
    {
     "name": "stdout",
     "output_type": "stream",
     "text": [
      "Extragerea a avut loc cu succes\n"
     ]
    }
   ],
   "source": [
    "acount_1.withdraw(500)"
   ]
  },
  {
   "cell_type": "code",
   "execution_count": 19,
   "id": "7bfda6da-5693-4a07-b013-afdad16437e4",
   "metadata": {},
   "outputs": [
    {
     "name": "stdout",
     "output_type": "stream",
     "text": [
      "Account-> Nume:   Dascal\n",
      "Account balance: $100\n"
     ]
    }
   ],
   "source": [
    "print(acount_1)"
   ]
  },
  {
   "cell_type": "code",
   "execution_count": 52,
   "id": "58abcc96-2342-41df-b5bf-d5bd35c9e33e",
   "metadata": {},
   "outputs": [],
   "source": [
    "class Car():\n",
    "    def __init__(self,marca,culoare,sofer = None,viteza = 0):\n",
    "        self.marca = marca\n",
    "        self.culoare = culoare\n",
    "        self.sofer = sofer\n",
    "        self.viteza = viteza\n",
    "    \n",
    "    def __str__(self):\n",
    "        return f\"Marca masini este ->{self.marca}<- culoarea este ->{self.culoare}<- soretul masini este ->{self.sofer}<- viteza masini este ->{self.viteza}<-\"\n",
    "    \n",
    "    def alege_sofer(self,nume):\n",
    "        self.sofer = nume\n",
    "    \n",
    "    def accelerare(self,rata,durata):\n",
    "        if self.nume != None:\n",
    "            self.viteza = rata*durata\n",
    "        else:\n",
    "            return 'Nu este setat un sofer'\n"
   ]
  },
  {
   "cell_type": "code",
   "execution_count": 53,
   "id": "d57a557c-6133-4ac5-8fd2-2fe6ca254408",
   "metadata": {},
   "outputs": [],
   "source": [
    "masina_1 = Car('Ford','Negru')"
   ]
  },
  {
   "cell_type": "code",
   "execution_count": 54,
   "id": "b1f1d5cd-450e-4587-86a0-c6840ec1eb9e",
   "metadata": {},
   "outputs": [
    {
     "name": "stdout",
     "output_type": "stream",
     "text": [
      "Marca masini este ->Ford<- culoarea este ->Negru<- soretul masini este ->None<- viteza masini este ->0<-\n"
     ]
    }
   ],
   "source": [
    "print(masina_1)"
   ]
  },
  {
   "cell_type": "code",
   "execution_count": 55,
   "id": "c73ff853-3d55-437d-9909-5a9ef4905050",
   "metadata": {},
   "outputs": [
    {
     "name": "stdout",
     "output_type": "stream",
     "text": [
      "Collecting mysql-connector-python\n",
      "  Downloading mysql_connector_python-8.0.27-1commercial-cp39-cp39-win_amd64.whl (7.7 MB)\n",
      "Collecting protobuf>=3.0.0\n",
      "  Downloading protobuf-3.19.1-cp39-cp39-win_amd64.whl (895 kB)\n",
      "Installing collected packages: protobuf, mysql-connector-python\n",
      "Successfully installed mysql-connector-python-8.0.27 protobuf-3.19.1\n"
     ]
    }
   ],
   "source": [
    "!python -m pip install mysql-connector-python"
   ]
  },
  {
   "cell_type": "code",
   "execution_count": 29,
   "id": "90295de0-46e8-44b3-8813-0aa11307427b",
   "metadata": {},
   "outputs": [
    {
     "ename": "ProgrammingError",
     "evalue": "1050 (42S01): Table 'densitate' already exists",
     "output_type": "error",
     "traceback": [
      "\u001b[1;31m---------------------------------------------------------------------------\u001b[0m",
      "\u001b[1;31mMySQLInterfaceError\u001b[0m                       Traceback (most recent call last)",
      "\u001b[1;32m~\\AppData\\Local\\Programs\\Python\\Python39\\lib\\site-packages\\mysql\\connector\\connection_cext.py\u001b[0m in \u001b[0;36mcmd_query\u001b[1;34m(self, query, raw, buffered, raw_as_string)\u001b[0m\n\u001b[0;32m    516\u001b[0m                 \u001b[0mquery\u001b[0m \u001b[1;33m=\u001b[0m \u001b[0mquery\u001b[0m\u001b[1;33m.\u001b[0m\u001b[0mencode\u001b[0m\u001b[1;33m(\u001b[0m\u001b[1;34m'utf-8'\u001b[0m\u001b[1;33m)\u001b[0m\u001b[1;33m\u001b[0m\u001b[1;33m\u001b[0m\u001b[0m\n\u001b[1;32m--> 517\u001b[1;33m             self._cmysql.query(query,\n\u001b[0m\u001b[0;32m    518\u001b[0m                                \u001b[0mraw\u001b[0m\u001b[1;33m=\u001b[0m\u001b[0mraw\u001b[0m\u001b[1;33m,\u001b[0m \u001b[0mbuffered\u001b[0m\u001b[1;33m=\u001b[0m\u001b[0mbuffered\u001b[0m\u001b[1;33m,\u001b[0m\u001b[1;33m\u001b[0m\u001b[1;33m\u001b[0m\u001b[0m\n",
      "\u001b[1;31mMySQLInterfaceError\u001b[0m: Table 'densitate' already exists",
      "\nDuring handling of the above exception, another exception occurred:\n",
      "\u001b[1;31mProgrammingError\u001b[0m                          Traceback (most recent call last)",
      "\u001b[1;32m~\\AppData\\Local\\Temp/ipykernel_6732/3107823018.py\u001b[0m in \u001b[0;36m<module>\u001b[1;34m\u001b[0m\n\u001b[0;32m      3\u001b[0m \u001b[0mmydb\u001b[0m \u001b[1;33m=\u001b[0m \u001b[0mmysql\u001b[0m\u001b[1;33m.\u001b[0m\u001b[0mconnector\u001b[0m\u001b[1;33m.\u001b[0m\u001b[0mconnect\u001b[0m\u001b[1;33m(\u001b[0m\u001b[0mhost\u001b[0m\u001b[1;33m=\u001b[0m\u001b[1;34m\"localhost\"\u001b[0m\u001b[1;33m,\u001b[0m\u001b[0mdatabase\u001b[0m \u001b[1;33m=\u001b[0m \u001b[1;34m\"recensamant\"\u001b[0m\u001b[1;33m,\u001b[0m \u001b[0muser\u001b[0m \u001b[1;33m=\u001b[0m \u001b[1;34m\"root\"\u001b[0m\u001b[1;33m,\u001b[0m \u001b[0mpassword\u001b[0m \u001b[1;33m=\u001b[0m \u001b[1;34m''\u001b[0m\u001b[1;33m)\u001b[0m\u001b[1;33m\u001b[0m\u001b[1;33m\u001b[0m\u001b[0m\n\u001b[0;32m      4\u001b[0m \u001b[0mmycursor\u001b[0m \u001b[1;33m=\u001b[0m \u001b[0mmydb\u001b[0m\u001b[1;33m.\u001b[0m\u001b[0mcursor\u001b[0m\u001b[1;33m(\u001b[0m\u001b[1;33m)\u001b[0m\u001b[1;33m\u001b[0m\u001b[1;33m\u001b[0m\u001b[0m\n\u001b[1;32m----> 5\u001b[1;33m \u001b[0mmycursor\u001b[0m\u001b[1;33m.\u001b[0m\u001b[0mexecute\u001b[0m\u001b[1;33m(\u001b[0m\u001b[1;34m\"CREATE TABLE Densitate (ID INT PRIMARY KEY AUTO_INCREMENT,PROVINCE VARCHAR(255),POPULATION VARCHAR(255), LAND_AREA VARCHAR(255))\"\u001b[0m\u001b[1;33m)\u001b[0m\u001b[1;33m\u001b[0m\u001b[1;33m\u001b[0m\u001b[0m\n\u001b[0m",
      "\u001b[1;32m~\\AppData\\Local\\Programs\\Python\\Python39\\lib\\site-packages\\mysql\\connector\\cursor_cext.py\u001b[0m in \u001b[0;36mexecute\u001b[1;34m(self, operation, params, multi)\u001b[0m\n\u001b[0;32m    268\u001b[0m \u001b[1;33m\u001b[0m\u001b[0m\n\u001b[0;32m    269\u001b[0m         \u001b[1;32mtry\u001b[0m\u001b[1;33m:\u001b[0m\u001b[1;33m\u001b[0m\u001b[1;33m\u001b[0m\u001b[0m\n\u001b[1;32m--> 270\u001b[1;33m             result = self._cnx.cmd_query(stmt, raw=self._raw,\n\u001b[0m\u001b[0;32m    271\u001b[0m                                          \u001b[0mbuffered\u001b[0m\u001b[1;33m=\u001b[0m\u001b[0mself\u001b[0m\u001b[1;33m.\u001b[0m\u001b[0m_buffered\u001b[0m\u001b[1;33m,\u001b[0m\u001b[1;33m\u001b[0m\u001b[1;33m\u001b[0m\u001b[0m\n\u001b[0;32m    272\u001b[0m                                          raw_as_string=self._raw_as_string)\n",
      "\u001b[1;32m~\\AppData\\Local\\Programs\\Python\\Python39\\lib\\site-packages\\mysql\\connector\\connection_cext.py\u001b[0m in \u001b[0;36mcmd_query\u001b[1;34m(self, query, raw, buffered, raw_as_string)\u001b[0m\n\u001b[0;32m    520\u001b[0m                                query_attrs=self._query_attrs)\n\u001b[0;32m    521\u001b[0m         \u001b[1;32mexcept\u001b[0m \u001b[0mMySQLInterfaceError\u001b[0m \u001b[1;32mas\u001b[0m \u001b[0mexc\u001b[0m\u001b[1;33m:\u001b[0m\u001b[1;33m\u001b[0m\u001b[1;33m\u001b[0m\u001b[0m\n\u001b[1;32m--> 522\u001b[1;33m             raise errors.get_mysql_exception(exc.errno, msg=exc.msg,\n\u001b[0m\u001b[0;32m    523\u001b[0m                                              sqlstate=exc.sqlstate)\n\u001b[0;32m    524\u001b[0m         \u001b[1;32mexcept\u001b[0m \u001b[0mAttributeError\u001b[0m\u001b[1;33m:\u001b[0m\u001b[1;33m\u001b[0m\u001b[1;33m\u001b[0m\u001b[0m\n",
      "\u001b[1;31mProgrammingError\u001b[0m: 1050 (42S01): Table 'densitate' already exists"
     ]
    }
   ],
   "source": [
    "import mysql.connector\n",
    "\n",
    "mydb = mysql.connector.connect(host=\"localhost\",database = \"recensamant\", user = \"root\", password = '')\n",
    "mycursor = mydb.cursor()\n",
    "mycursor.execute(\"CREATE TABLE Densitate (ID INT PRIMARY KEY AUTO_INCREMENT,PROVINCE VARCHAR(255),POPULATION VARCHAR(255), LAND_AREA VARCHAR(255))\")"
   ]
  },
  {
   "cell_type": "code",
   "execution_count": 30,
   "id": "3d1afa59-40c8-47d3-ab69-503c6bd6bad8",
   "metadata": {},
   "outputs": [
    {
     "name": "stdout",
     "output_type": "stream",
     "text": [
      "13 Record inserted successfully into densitate table\n"
     ]
    }
   ],
   "source": [
    "\n",
    "val = [('Newfoundland and Labrador', 512930, 370501.69),\n",
    "        ('Prince Edward Island', 135294,5684.30),\n",
    "        ('Nova Scotia', 908007,52917.43),\n",
    "        ('New Brunswick', 729498, 71355.67),\n",
    "        ('Quebec', 7237479,1357743.08),\n",
    "        ('Ontario', 11410046, 907655.59),\n",
    "        ('Manitoba', 1119583, 551937.87),\n",
    "        ('Saskatchewan',978933, 586561.35),\n",
    "        ('Alberta', 2974807, 639987.12),\n",
    "        ('British Columbia', 3907738, 926492.48),\n",
    "        ('Yukon Territory', 28674, 474706.97),\n",
    "        ('Northwest Territories', 37360, 1151108.37),\n",
    "        ('Nunavut', 26745, 1925460.18) ]\n",
    "sql = \"INSERT INTO Densitate (PROVINCE, POPULATION,LAND_AREA) VALUES (%s, %s, %s)\"\n",
    "\n",
    "try: \n",
    "    mycursor.executemany(sql,val)\n",
    "    mydb.commit()\n",
    "    print(mycursor.rowcount, \"Record inserted successfully into densitate table\")\n",
    "except mysql.connector.Error as error:\n",
    "    print(\"Record FAILED!\")"
   ]
  },
  {
   "cell_type": "code",
   "execution_count": 31,
   "id": "9c584931-a4ee-4088-9ffa-aea0eac2dd7a",
   "metadata": {},
   "outputs": [
    {
     "name": "stdout",
     "output_type": "stream",
     "text": [
      "(1, 'Newfoundland and Labrador', '512930', '370501.69')\n",
      "(2, 'Prince Edward Island', '135294', '5684.3')\n",
      "(3, 'Nova Scotia', '908007', '52917.43')\n",
      "(4, 'New Brunswick', '729498', '71355.67')\n",
      "(5, 'Quebec', '7237479', '1357743.08')\n",
      "(6, 'Ontario', '11410046', '907655.59')\n",
      "(7, 'Manitoba', '1119583', '551937.87')\n",
      "(8, 'Saskatchewan', '978933', '586561.35')\n",
      "(9, 'Alberta', '2974807', '639987.12')\n",
      "(10, 'British Columbia', '3907738', '926492.48')\n",
      "(11, 'Yukon Territory', '28674', '474706.97')\n",
      "(12, 'Northwest Territories', '37360', '1151108.37')\n",
      "(13, 'Nunavut', '26745', '1925460.18')\n"
     ]
    }
   ],
   "source": [
    "mycursor.execute(\"Select * from densitate\")\n",
    "for x in mycursor:\n",
    "    print(x)"
   ]
  },
  {
   "cell_type": "code",
   "execution_count": 1,
   "id": "54fcfc71-ad25-49ec-adc0-083f85c7fcbd",
   "metadata": {},
   "outputs": [
    {
     "name": "stdout",
     "output_type": "stream",
     "text": [
      "('512930',)\n",
      "('135294',)\n",
      "('908007',)\n",
      "('729498',)\n",
      "('7237479',)\n",
      "('11410046',)\n",
      "('1119583',)\n",
      "('978933',)\n",
      "('2974807',)\n",
      "('3907738',)\n",
      "('28674',)\n",
      "('37360',)\n",
      "('26745',)\n"
     ]
    }
   ],
   "source": [
    "import mysql.connector\n",
    "\n",
    "mydb = mysql.connector.connect(host=\"localhost\",database = \"recensamant\", user = \"root\", password = '')\n",
    "mycursor = mydb.cursor()\n",
    "mycursor.execute(\"Select POPULATION from densitate\")\n",
    "for x in mycursor:\n",
    "    print(x)"
   ]
  },
  {
   "cell_type": "code",
   "execution_count": 3,
   "id": "6154e54b-e393-4304-8c66-3358ca7a4734",
   "metadata": {},
   "outputs": [
    {
     "name": "stdout",
     "output_type": "stream",
     "text": [
      "('Newfoundland and Labrador',)\n",
      "('Prince Edward Island',)\n",
      "('Nova Scotia',)\n",
      "('New Brunswick',)\n",
      "('Saskatchewan',)\n",
      "('Yukon Territory',)\n",
      "('Northwest Territories',)\n",
      "('Nunavut',)\n"
     ]
    }
   ],
   "source": [
    "mycursor.execute(\"Select PROVINCE from densitate where POPULATION<1000000\")\n",
    "for x in mycursor:\n",
    "    print(x)"
   ]
  },
  {
   "cell_type": "code",
   "execution_count": 4,
   "id": "05fb6592-8426-41e0-9b55-2ea7cc3b4989",
   "metadata": {},
   "outputs": [
    {
     "name": "stdout",
     "output_type": "stream",
     "text": [
      "('512930',)\n",
      "('135294',)\n",
      "('908007',)\n",
      "('729498',)\n",
      "('7237479',)\n",
      "('11410046',)\n",
      "('978933',)\n",
      "('28674',)\n",
      "('37360',)\n",
      "('26745',)\n"
     ]
    }
   ],
   "source": [
    "mycursor.execute(\"Select POPULATION from densitate where POPULATION<1000000 or POPULATION>5000000\")\n",
    "for x in mycursor:\n",
    "    print(x)"
   ]
  },
  {
   "cell_type": "code",
   "execution_count": 5,
   "id": "22d19101-97dc-440b-ae08-3253d6f77aef",
   "metadata": {},
   "outputs": [
    {
     "name": "stdout",
     "output_type": "stream",
     "text": [
      "('1119583',)\n",
      "('2974807',)\n",
      "('3907738',)\n"
     ]
    }
   ],
   "source": [
    "mycursor.execute(\"Select POPULATION from densitate where POPULATION>1000000 and POPULATION<5000000\")\n",
    "for x in mycursor:\n",
    "    print(x)"
   ]
  },
  {
   "cell_type": "code",
   "execution_count": 6,
   "id": "db31ee0f-53e2-438c-a703-fa0d15a87876",
   "metadata": {},
   "outputs": [
    {
     "name": "stdout",
     "output_type": "stream",
     "text": [
      "('512930',)\n",
      "('7237479',)\n",
      "('11410046',)\n",
      "('1119583',)\n",
      "('978933',)\n",
      "('2974807',)\n",
      "('3907738',)\n",
      "('28674',)\n",
      "('37360',)\n",
      "('26745',)\n"
     ]
    }
   ],
   "source": [
    "mycursor.execute(\"Select POPULATION from densitate where LAND_AREA > 200000\")\n",
    "for x in mycursor:\n",
    "    print(x)"
   ]
  },
  {
   "cell_type": "code",
   "execution_count": 7,
   "id": "e28606e3-61cd-4110-8171-9f2b148a81ca",
   "metadata": {},
   "outputs": [
    {
     "name": "stdout",
     "output_type": "stream",
     "text": [
      "(1.384420135843375,)\n",
      "(23.80134757138082,)\n",
      "(17.15893988048928,)\n",
      "(10.223406212848959,)\n",
      "(5.330521736115201,)\n",
      "(12.570898175154742,)\n",
      "(2.0284583842743027,)\n",
      "(1.6689353978062142,)\n",
      "(4.648229483118348,)\n",
      "(4.217776273802028,)\n",
      "(0.060403579075318826,)\n",
      "(0.03245567574145951,)\n",
      "(0.013890185981410428,)\n"
     ]
    }
   ],
   "source": [
    "mycursor.execute(\"Select POPULATION/LAND_AREA from densitate\")\n",
    "for x in mycursor:\n",
    "    print(x)"
   ]
  },
  {
   "cell_type": "code",
   "execution_count": 8,
   "id": "c8d59a85-6cda-444c-a0d4-daacf11542a1",
   "metadata": {},
   "outputs": [],
   "source": [
    "#problema 4\n",
    "\n",
    "import mysql.connector\n",
    "\n",
    "mydb = mysql.connector.connect(host=\"localhost\",database = \"recensamant\", user = \"root\", password = '')\n",
    "mycursor = mydb.cursor()\n",
    "mycursor.execute(\"CREATE TABLE Capitale  (ID INT PRIMARY KEY AUTO_INCREMENT,provincie VARCHAR(255),teritoriu VARCHAR(255), capitala VARCHAR(255), populație int)\")"
   ]
  },
  {
   "cell_type": "code",
   "execution_count": 9,
   "id": "f3003cbb-10f9-4dcc-8d69-8c5ea6ccfefe",
   "metadata": {},
   "outputs": [],
   "source": [
    "#problema 4\n",
    "import mysql.connector\n",
    "\n",
    "mydb = mysql.connector.connect(\n",
    "  host=\"localhost\",\n",
    "  user=\"root\",\n",
    "  password=\"\"\n",
    ")\n",
    "\n",
    "mycursor = mydb.cursor()\n",
    "\n",
    "mycursor.execute(\"CREATE DATABASE mydatabase\")"
   ]
  },
  {
   "cell_type": "code",
   "execution_count": 36,
   "id": "4829bf31-f911-41be-bdf9-ea3086de47d3",
   "metadata": {},
   "outputs": [],
   "source": [
    "import mysql.connector\n",
    "mydb = mysql.connector.connect(host=\"localhost\",database = \"mydatabase\", user = \"root\", password = '')\n",
    "mycursor = mydb.cursor()"
   ]
  },
  {
   "cell_type": "code",
   "execution_count": 22,
   "id": "2b421e5c-affa-40ae-a180-7ab8cee5026d",
   "metadata": {},
   "outputs": [],
   "source": [
    "mycursor.execute(\"CREATE TABLE Numbers(Val int)\")"
   ]
  },
  {
   "cell_type": "code",
   "execution_count": 41,
   "id": "4641e977-74d2-4516-a0aa-fb1b0ca375dc",
   "metadata": {},
   "outputs": [
    {
     "name": "stdout",
     "output_type": "stream",
     "text": [
      "Valorile au fost adaugate cu succes!\n"
     ]
    }
   ],
   "source": [
    "try:\n",
    "    mycursor.execute(\"INSERT INTO Numbers(val) values(1)\")\n",
    "    mycursor.execute(\"INSERT INTO Numbers(val) values(2)\")\n",
    "    mydb.commit()\n",
    "    print(\"Valorile au fost adaugate cu succes!\")\n",
    "except mysql.connector.Error as error:\n",
    "    print(\"Eroare\")"
   ]
  },
  {
   "cell_type": "code",
   "execution_count": 42,
   "id": "e504da9c-1f6b-4747-87a2-9c234b0031ea",
   "metadata": {},
   "outputs": [],
   "source": [
    "mycursor.execute(\"SELECT * FROM Numbers WHERE 1/0\")\n",
    "for x in mycursor:\n",
    "    print(x)\n"
   ]
  },
  {
   "cell_type": "code",
   "execution_count": 43,
   "id": "134a6c64-7dd3-4363-9171-54f87fb53859",
   "metadata": {},
   "outputs": [],
   "source": [
    "mycursor.execute(\"SELECT * FROM Numbers WHERE 1/0 AND val >0\")\n",
    "for x in mycursor:\n",
    "    print(x)"
   ]
  },
  {
   "cell_type": "code",
   "execution_count": 44,
   "id": "bd1a7cff-eb09-4679-a8fe-2253a9a0b3b9",
   "metadata": {},
   "outputs": [],
   "source": [
    "mycursor.execute(\"SELECT * FROM Numbers WHERE val >0 AND 1/0\")\n",
    "for x in mycursor:\n",
    "    print(x)"
   ]
  },
  {
   "cell_type": "code",
   "execution_count": 49,
   "id": "36f9079b-99f2-45ec-a480-b8993aed2cc7",
   "metadata": {},
   "outputs": [],
   "source": [
    "#problema 6\n",
    "def find_min_max(values):\n",
    "    min_values = values[0]\n",
    "    max_values = values[0]\n",
    "    for value in values:\n",
    "        if value > max_values:\n",
    "            max_values = value\n",
    "        if value < min_values:\n",
    "            min_values = value\n",
    "    print(\"The minimum value is {0}\".format(min_values))\n",
    "    print(\"The maximum value is {0}\".format(max_values))"
   ]
  },
  {
   "cell_type": "code",
   "execution_count": 50,
   "id": "024f77a0-3737-4590-8dec-8c52f5eff574",
   "metadata": {},
   "outputs": [
    {
     "name": "stdout",
     "output_type": "stream",
     "text": [
      "The minimum value is 0\n",
      "The maximum value is 1000\n"
     ]
    }
   ],
   "source": [
    "find_min_max([0,11,22,100,50,1000])"
   ]
  },
  {
   "cell_type": "code",
   "execution_count": 1,
   "id": "631b131e-35a6-4b2c-b255-04afb7d41a03",
   "metadata": {},
   "outputs": [],
   "source": [
    "#problema 7\n",
    "def average(values):\n",
    "    count = 0 \n",
    "    total = 0\n",
    "    for value in values:\n",
    "        if value is not None:\n",
    "            total+= value\n",
    "        count += 1\n",
    "    return total/count\n"
   ]
  },
  {
   "cell_type": "code",
   "execution_count": 18,
   "id": "068ac2f8-4f15-42d3-8cdc-df6996769928",
   "metadata": {},
   "outputs": [],
   "source": [
    "a = set([20,20])"
   ]
  },
  {
   "cell_type": "code",
   "execution_count": 19,
   "id": "d62e9223-4225-4abf-b865-b59cedd4a76f",
   "metadata": {},
   "outputs": [
    {
     "data": {
      "text/plain": [
       "20.0"
      ]
     },
     "execution_count": 19,
     "metadata": {},
     "output_type": "execute_result"
    }
   ],
   "source": [
    "average(a)"
   ]
  },
  {
   "cell_type": "code",
   "execution_count": 28,
   "id": "44a57fa2-8b49-4c8e-81ef-a1bdd075cf0f",
   "metadata": {},
   "outputs": [],
   "source": [
    "def average(values):\n",
    "    count = 0 \n",
    "    total = 0\n",
    "    for value in values:\n",
    "        if value is not None:\n",
    "            total+= value\n",
    "        else: \n",
    "            pass\n",
    "        count += 1\n",
    "    return total/count"
   ]
  },
  {
   "cell_type": "code",
   "execution_count": 30,
   "id": "cae183c3-3cd6-4e60-a084-292678c373cf",
   "metadata": {},
   "outputs": [
    {
     "name": "stdout",
     "output_type": "stream",
     "text": [
      "Elementul este: 10\n",
      "2 ridicat la puterea 0 is 1\n",
      "2 ridicat la puterea 1 is 2\n",
      "2 ridicat la puterea 2 is 4\n",
      "2 ridicat la puterea 3 is 8\n",
      "2 ridicat la puterea 4 is 16\n",
      "2 ridicat la puterea 5 is 32\n",
      "2 ridicat la puterea 6 is 64\n",
      "2 ridicat la puterea 7 is 128\n",
      "2 ridicat la puterea 8 is 256\n",
      "2 ridicat la puterea 9 is 512\n"
     ]
    }
   ],
   "source": [
    "#problema  8 \n",
    "terms = 10\n",
    "result = list(map(lambda x: 2 ** x, range(terms)))\n",
    "\n",
    "print(\"Elementul este:\",terms)\n",
    "for i in range(terms):\n",
    "    print(\"2 ridicat la puterea\",i,\"is\",result[i])"
   ]
  },
  {
   "cell_type": "code",
   "execution_count": null,
   "id": "4bf1ae93-1a44-4023-8ad9-62fcf702795b",
   "metadata": {},
   "outputs": [],
   "source": []
  }
 ],
 "metadata": {
  "kernelspec": {
   "display_name": "Python 3 (ipykernel)",
   "language": "python",
   "name": "python3"
  },
  "language_info": {
   "codemirror_mode": {
    "name": "ipython",
    "version": 3
   },
   "file_extension": ".py",
   "mimetype": "text/x-python",
   "name": "python",
   "nbconvert_exporter": "python",
   "pygments_lexer": "ipython3",
   "version": "3.9.7"
  }
 },
 "nbformat": 4,
 "nbformat_minor": 5
}
