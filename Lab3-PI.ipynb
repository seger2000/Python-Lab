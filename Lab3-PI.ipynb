{
 "cells": [
  {
   "cell_type": "code",
   "execution_count": 59,
   "id": "personalized-heater",
   "metadata": {},
   "outputs": [],
   "source": [
    "#Prob 1\n",
    "def is_prime(n):\n",
    "    if n > 1:\n",
    "        for i in range(2, n):\n",
    "            if n % i == 0:\n",
    "                return False\n",
    "        return True\n",
    "    else:\n",
    "        return False"
   ]
  },
  {
   "cell_type": "code",
   "execution_count": 61,
   "id": "unique-violence",
   "metadata": {},
   "outputs": [
    {
     "name": "stdin",
     "output_type": "stream",
     "text": [
      "N =  1\n"
     ]
    },
    {
     "name": "stdout",
     "output_type": "stream",
     "text": [
      "1 nu este prim introduceti un numar care este prim\n"
     ]
    },
    {
     "name": "stdin",
     "output_type": "stream",
     "text": [
      "N =  6\n"
     ]
    },
    {
     "name": "stdout",
     "output_type": "stream",
     "text": [
      "6 nu este prim introduceti un numar care este prim\n"
     ]
    },
    {
     "name": "stdin",
     "output_type": "stream",
     "text": [
      "N =  5\n"
     ]
    },
    {
     "name": "stdout",
     "output_type": "stream",
     "text": [
      "5 este prim\n"
     ]
    }
   ],
   "source": [
    "num=int(input(\"N = \"))\n",
    "while is_prime(num) is False:\n",
    "    print(f\"{num} nu este prim introduceti un numar care este prim\")\n",
    "    num=int(input(\"N = \"))\n",
    "else:\n",
    "    print(f\"{num} este prim\")\n"
   ]
  },
  {
   "cell_type": "code",
   "execution_count": 62,
   "id": "excellent-indonesia",
   "metadata": {},
   "outputs": [
    {
     "data": {
      "text/plain": [
       "[1, 2, 3, 3, 4, 5, 6, 11, 7, 8, 12]"
      ]
     },
     "execution_count": 62,
     "metadata": {},
     "output_type": "execute_result"
    }
   ],
   "source": [
    "#prob2\n",
    "li = [[1,2,3],[3,4],[5,6],[11,7,8,12]]\n",
    "sum(li,[])"
   ]
  },
  {
   "cell_type": "code",
   "execution_count": 63,
   "id": "through-christian",
   "metadata": {},
   "outputs": [],
   "source": [
    "t = [[1,2,3],[3,4],[5,6],[11,7,8,12],[7]]\n",
    "flat_list = []\n",
    "for sublist in t:\n",
    "    for item in sublist:\n",
    "        flat_list.append(item)"
   ]
  },
  {
   "cell_type": "code",
   "execution_count": 65,
   "id": "painted-concentration",
   "metadata": {},
   "outputs": [
    {
     "data": {
      "text/plain": [
       "[1, 2, 3, 3, 4, 5, 6, 11, 7, 8, 12, 7]"
      ]
     },
     "execution_count": 65,
     "metadata": {},
     "output_type": "execute_result"
    }
   ],
   "source": [
    "flat_list"
   ]
  },
  {
   "cell_type": "code",
   "execution_count": 153,
   "id": "illegal-collective",
   "metadata": {},
   "outputs": [
    {
     "name": "stdout",
     "output_type": "stream",
     "text": [
      "Cumatul ACEST este anagraf fata de cuvantul ASCET\n",
      "Cumatul ASCET este anagraf fata de cuvantul ACEST\n",
      "Cumatul CASET este anagraf fata de cuvantul ACEST\n",
      "Cumatul CASTE este anagraf fata de cuvantul ACEST\n",
      "Cumatul CESTA este anagraf fata de cuvantul ACEST\n"
     ]
    }
   ],
   "source": [
    "#problema 3\n",
    "li = ['ACEST','ASCET','CASET','CASTE','CESTA']\n",
    "lin = []\n",
    "for i in li:\n",
    "    for j in li:\n",
    "        if len(i) == len(j) and i != j:\n",
    "            for k in i:\n",
    "                if k in j and i != j:\n",
    "                    if i not in lin:\n",
    "                        print(f\"Cumatul {i} este anagraf fata de cuvantul {j}\")\n",
    "                        lin.append(i)"
   ]
  },
  {
   "cell_type": "code",
   "execution_count": 152,
   "id": "tribal-glucose",
   "metadata": {},
   "outputs": [
    {
     "name": "stdout",
     "output_type": "stream",
     "text": [
      "{'Oprea': 1, 'Cristi': 2, 'Ion': 3, 'Danu': 4}\n"
     ]
    }
   ],
   "source": [
    "#Problema4\n",
    "dictionar={1:\"Oprea\",2:\"Cristi\",3:\"Ion\",4:\"Danu\"}\n",
    "list_key = []\n",
    "list_value = []\n",
    "list_key = dictionar.keys()\n",
    "list_value  =  dictionar.values()\n",
    "dictionar=dict(zip(list_value,dictionar.values()))\n",
    "dictionar=dict(zip(dictionar.values(),list_key))\n",
    "print(dictionar)"
   ]
  },
  {
   "cell_type": "code",
   "execution_count": 142,
   "id": "adjacent-blair",
   "metadata": {},
   "outputs": [],
   "source": [
    "#Problema 5\n",
    "def mult_lists(a,b):\n",
    "    c=zip(a,b)\n",
    "    sum = [x + y for (x,y) in c]\n",
    "    return sum"
   ]
  },
  {
   "cell_type": "code",
   "execution_count": 143,
   "id": "mature-hawaiian",
   "metadata": {},
   "outputs": [
    {
     "data": {
      "text/plain": [
       "[7, 9, 11, 13, 15]"
      ]
     },
     "execution_count": 143,
     "metadata": {},
     "output_type": "execute_result"
    }
   ],
   "source": [
    "a = [1,2,3,4,5]\n",
    "b = [6,7,8,9,10]\n",
    "mult_lists(a,b)"
   ]
  },
  {
   "cell_type": "code",
   "execution_count": 144,
   "id": "corporate-bibliography",
   "metadata": {},
   "outputs": [
    {
     "name": "stdout",
     "output_type": "stream",
     "text": [
      "*********************A*****************************\n",
      "Brendan\n",
      "Sandy\n",
      "Nick\n",
      "Allan\n",
      "Barry\n",
      "Christine\n",
      "Delia\n",
      "*********************B*****************************\n",
      "{'Barry', 'Christine', 'Allan', 'Brendan', 'Delia', 'Sandy', 'Nick'}\n",
      "*********************C*****************************\n",
      "{('Brendan', 'Sandy', 'Nick'), ('McCane', 'Garner', 'Meek')}\n",
      "*********************D*****************************\n",
      "{('Anderson', 'Byars', 'Carver', 'de Wattinger'), ('Allan', 'Barry', 'Christine', 'Delia')}\n",
      "*********************E*****************************\n",
      "Anderson Allan\n",
      "Byars Barry\n",
      "Carver Christine\n",
      "de Wattinger Delia\n",
      "*********************F*****************************\n",
      "Brendan M.\n",
      "Sandy G.\n",
      "Nick M.\n"
     ]
    }
   ],
   "source": [
    "#Problema 6\n",
    "brendan = (\"Brendan\", \"McCane\")\n",
    "sandy = (\"Sandy\", \"Garner\")\n",
    "nick = (\"Nick\", \"Meek\")\n",
    "student1 = (\"Allan\", \"Anderson\")\n",
    "student2 = (\"Barry\", \"Byars\")\n",
    "student3 = (\"Christine\", \"Carver\")\n",
    "student4 = (\"Delia\", \"de Wattinger\")\n",
    "print(\"*********************A*****************************\")\n",
    "list1 = list(zip(brendan,sandy,nick,student1,student2,student3,student4))\n",
    "for i in list1[0]:\n",
    "    print(i)\n",
    "print(\"*********************B*****************************\")\n",
    "set_list = set()\n",
    "for i in list1[0]:\n",
    "    set_list.add(i)\n",
    "print(set_list)\n",
    "print(\"*********************C*****************************\")\n",
    "profesori = set(zip(brendan,sandy,nick))\n",
    "print(profesori)\n",
    "print(\"*********************D*****************************\")\n",
    "studenti = set(zip(student1,student2,student3,student4))\n",
    "print(studenti)\n",
    "print(\"*********************E*****************************\")\n",
    "i,j = studenti\n",
    "for k in range(0,len(i)):\n",
    "    print(i[k],j[k])\n",
    "print(\"*********************F*****************************\")\n",
    "index1,index2 = profesori\n",
    "for m in range(0, len(index1)):\n",
    "    print(f\"{index1[m]} {index2[m][:1]}.\")"
   ]
  },
  {
   "cell_type": "code",
   "execution_count": 145,
   "id": "filled-organizer",
   "metadata": {},
   "outputs": [],
   "source": [
    "#Problema 7\n",
    "lines = []\n",
    "with open('myfile.txt') as file:\n",
    "    for line in file: \n",
    "        line = line.strip() \n",
    "        lines.append(line)"
   ]
  },
  {
   "cell_type": "code",
   "execution_count": 146,
   "id": "green-solid",
   "metadata": {},
   "outputs": [
    {
     "name": "stdout",
     "output_type": "stream",
     "text": [
      "{'1': 'Dascal', '2': 'Vasile', '3': 'Ion'}\n"
     ]
    }
   ],
   "source": [
    "lines\n",
    "it = iter(lines)\n",
    "d = dict(zip(it,it))\n",
    "print(d)\n",
    "file.close()"
   ]
  },
  {
   "cell_type": "code",
   "execution_count": 147,
   "id": "constitutional-carrier",
   "metadata": {},
   "outputs": [
    {
     "data": {
      "text/plain": [
       "['axn', 'axa', 'rxe', 'mxe', 'rxe', 'sxi', 'pxe']"
      ]
     },
     "execution_count": 147,
     "metadata": {},
     "output_type": "execute_result"
    }
   ],
   "source": [
    "#problema8 este facuta sa arate ca functioneaza trebuie de optimizat \n",
    "sir = \"anaaremeresiper\"\n",
    "li=[]\n",
    "lstr = ''\n",
    "count=0\n",
    "for i in sir:\n",
    "    if count == 0 or count == 2:\n",
    "        lstr=lstr+i\n",
    "        count+=1\n",
    "    if count == 1 and 'x' not in lstr:\n",
    "        lstr=lstr+'x'\n",
    "        count+=1\n",
    "    if count == 3:\n",
    "        lstr[1]\n",
    "        li.append(lstr)\n",
    "        lstr = ''\n",
    "        count=0\n",
    "li"
   ]
  },
  {
   "cell_type": "code",
   "execution_count": 148,
   "id": "frequent-oxford",
   "metadata": {},
   "outputs": [
    {
     "name": "stdout",
     "output_type": "stream",
     "text": [
      "{1: 2}\n"
     ]
    }
   ],
   "source": [
    "#Problema9\n",
    "d = {1:2,4:1,2:3,5:1}\n",
    "m = min(d.keys())\n",
    "for i in list(d):\n",
    "    if i>m:\n",
    "        d.pop(i)\n",
    "print(d)\n",
    "        "
   ]
  },
  {
   "cell_type": "code",
   "execution_count": null,
   "id": "aerial-resort",
   "metadata": {},
   "outputs": [],
   "source": []
  }
 ],
 "metadata": {
  "kernelspec": {
   "display_name": "Python 3",
   "language": "python",
   "name": "python3"
  },
  "language_info": {
   "codemirror_mode": {
    "name": "ipython",
    "version": 3
   },
   "file_extension": ".py",
   "mimetype": "text/x-python",
   "name": "python",
   "nbconvert_exporter": "python",
   "pygments_lexer": "ipython3",
   "version": "3.8.2"
  }
 },
 "nbformat": 4,
 "nbformat_minor": 5
}
